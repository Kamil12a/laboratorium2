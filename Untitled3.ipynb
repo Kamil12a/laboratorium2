{
  "nbformat": 4,
  "nbformat_minor": 0,
  "metadata": {
    "colab": {
      "name": "Untitled3.ipynb",
      "provenance": [],
      "authorship_tag": "ABX9TyNeb7g6ZxsFvAClCL4T6zpT",
      "include_colab_link": true
    },
    "kernelspec": {
      "name": "python3",
      "display_name": "Python 3"
    },
    "language_info": {
      "name": "python"
    }
  },
  "cells": [
    {
      "cell_type": "markdown",
      "metadata": {
        "id": "view-in-github",
        "colab_type": "text"
      },
      "source": [
        "<a href=\"https://colab.research.google.com/github/Kamil12a/laboratorium2/blob/main/Untitled3.ipynb\" target=\"_parent\"><img src=\"https://colab.research.google.com/assets/colab-badge.svg\" alt=\"Open In Colab\"/></a>"
      ]
    },
    {
      "cell_type": "code",
      "execution_count": null,
      "metadata": {
        "colab": {
          "base_uri": "https://localhost:8080/"
        },
        "id": "FYRlVOd_WGyI",
        "outputId": "6ef5dc9c-7e93-4e2e-e369-a4dec30c9253"
      },
      "outputs": [
        {
          "output_type": "execute_result",
          "data": {
            "text/plain": [
              "[2, 3, 5, 7]"
            ]
          },
          "metadata": {},
          "execution_count": 8
        }
      ],
      "source": [
        "#zad 1\n",
        "def prime(n):\n",
        "    if n == 2:\n",
        "        return True\n",
        "    if n % 2 == 0 or n <= 1:\n",
        "        return False\n",
        "\n",
        "    pierw = int(n**0.5) + 1\n",
        "    for dzielnik in range(3, pierw, 2):\n",
        "        if n % dzielnik == 0:\n",
        "            return False\n",
        "    return True\n",
        "def selectPrimes(array):\n",
        "  filterArray=[]\n",
        "  for x in array:\n",
        "     if(prime(x)):\n",
        "       filterArray.append(x)\n",
        "  return filterArray\n",
        "selectPrimes([1,2,3,5,6,7])"
      ]
    },
    {
      "cell_type": "code",
      "source": [
        "#zad 2\n",
        "import numpy as np\n",
        "wektor1= np.array([3, 8, 9, 10, 12])\n",
        "wektor2=  np.array ([8, 7, 7, 5, 6] )\n",
        "#a)\n",
        "print(wektor1+wektor2)\n",
        "print(wektor1*wektor2)\n",
        "#b)\n",
        "print(np.dot(wektor1,wektor2))\n",
        "#c)"
      ],
      "metadata": {
        "colab": {
          "base_uri": "https://localhost:8080/"
        },
        "id": "YaVcqDsUXlaP",
        "outputId": "cb7f286d-af6a-4e8e-dc4c-1351c16814a6"
      },
      "execution_count": null,
      "outputs": [
        {
          "output_type": "stream",
          "name": "stdout",
          "text": [
            "[11 15 16 15 18]\n",
            "[24 56 63 50 72]\n",
            "265\n"
          ]
        }
      ]
    },
    {
      "cell_type": "markdown",
      "source": [
        "# Nowa sekcja"
      ],
      "metadata": {
        "id": "Dj1tCk6MaXlT"
      }
    },
    {
      "cell_type": "code",
      "source": [
        ""
      ],
      "metadata": {
        "id": "tap1t1WParSg"
      },
      "execution_count": null,
      "outputs": []
    }
  ]
}